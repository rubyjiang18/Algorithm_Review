{
 "cells": [
  {
   "cell_type": "markdown",
   "metadata": {},
   "source": [
    "# Fundamentals of Sorting"
   ]
  },
  {
   "cell_type": "markdown",
   "metadata": {},
   "source": [
    "## Important liks:\n",
    "- [912. Sort an Array](https://leetcode.com/problems/sort-an-array/description/)\n",
    "- [Sorting Leetbook](https://leetcode.com/explore/learn/card/sorting/693/introduction/4431/)"
   ]
  },
  {
   "cell_type": "markdown",
   "metadata": {},
   "source": [
    "## Time complexity\n",
    "<!-- ![Local Image](sort.png) -->\n",
    "<img src=\"images/sort.png\" alt=\"Local Image\" width=\"500\" height=\"200\">"
   ]
  },
  {
   "cell_type": "markdown",
   "metadata": {},
   "source": [
    "## Table of Content\n",
    "\n",
    "- [Bubble Sort](#bubble_sort)\n",
    "- [Selection Sort](#selection_sort)\n",
    "- [Insertion Sort](#insertion_sort)\n",
    "- [Heap Sort](#heap_sort)\n",
    "- [Merge Sort](#merge_sort) (not inplace -- stable iff)\n",
    "- [Quick Sort](#quick_sort) (inplace -- not stable)\n",
    "- [Quick Select](#quick_select)\n"
   ]
  },
  {
   "cell_type": "markdown",
   "metadata": {},
   "source": [
    "## <a id='bubble_sort'>1. Bubble Sort</a>\n",
    "We start at the beginning of the array and swap the first two elements if the first is greater than the second.<br>\n",
    "Then, we go to the next pair, and so on, continously making sweeps pf the array until it is sorted.<br>\n",
    "Each entire scan of the array, the last element is sorted.<br>\n",
    "It is a **stable sorting algorithm** since equal elements will never have swapped places, so their relative ordering will be preserved."
   ]
  },
  {
   "cell_type": "markdown",
   "metadata": {},
   "source": [
    "Input: arr[] = {6, 3, 0, 5}"
   ]
  },
  {
   "cell_type": "code",
   "execution_count": null,
   "metadata": {},
   "outputs": [],
   "source": [
    "class sorting {\n",
    "    public static void bubbleSort(int[] arr) {\n",
    "        for (int i=0; i<arr.length-1; i++) {\n",
    "            for (int j=0; j<arr.length-1-i; j++) {\n",
    "                if (arr[j+1] < arr[j]) {\n",
    "                    int temp = arr[j];\n",
    "                    arr[j] = arr[j+1];\n",
    "                    arr[j+1] = temp;\n",
    "                }\n",
    "            }\n",
    "        }\n",
    "    }\n",
    "    \n",
    "    public static void main( String args[] ) {\n",
    "        int [] array = {10,5,3,1,24,12};\n",
    "        int len = array.length;\n",
    "        bubbleSort(array);\n",
    "\n",
    "        for(int i = 0; i<len; ++i){\n",
    "            System.out.print(array[i] + \" \");\n",
    "        }\n",
    "    }\n",
    "}"
   ]
  },
  {
   "cell_type": "markdown",
   "metadata": {},
   "source": [
    "## <a id='selection_sort'>2. Selection Sort</a>\n",
    "Find the smallest element using a linear scan and move it to the front (Or largest to the end). <br>\n",
    "Then, find the second smallest and move it, again doing a linear scan. <br>\n",
    "Continue doing this untile all the elements are in place. <br>\n",
    "It also is **not a stable** sorting algorithm. "
   ]
  },
  {
   "cell_type": "code",
   "execution_count": null,
   "metadata": {},
   "outputs": [],
   "source": [
    "class sorting {\n",
    "    public static void selectionSort(int[] arr) {\n",
    "        int min_index;\n",
    "        \n",
    "        for (int i=0; i<arr.length; i++) {\n",
    "            min_index = i;\n",
    "            for (int j=i+1; j<arr.length; j++) {\n",
    "                if (arr[j] < arr[min_index]) {\n",
    "                    min_index = j;\n",
    "                }\n",
    "            }\n",
    "            // swap element in min_index and i\n",
    "            int temp = arr[i];\n",
    "            arr[i] = arr[min_index];\n",
    "            arr[min_index] = temp;\n",
    "        }\n",
    "    }\n",
    "}"
   ]
  },
  {
   "cell_type": "markdown",
   "metadata": {},
   "source": [
    "## <a id='insertion_sort'>3. Insertion Sort</a>\n",
    "From the start of the list, and every time you encounter an element that is out of order, you can continuously swap places with previous elements until it is inserted in its **correct relative location** based on what you’ve processed thus far.<br>\n",
    "This process is best understood with a visual example.<br>\n",
    "\n",
    "The worst possible input is a reversed list, where every element has to be inserted at the very beginning of the list.\n",
    "\n",
    "For one, it is a stable sort."
   ]
  },
  {
   "cell_type": "code",
   "execution_count": null,
   "metadata": {},
   "outputs": [],
   "source": [
    "class sorting {\n",
    "    public static void insertionSort(int[] arr) {\n",
    "        int curr_index;\n",
    "        for (int i=1; i<arr.length; i++) {\n",
    "            curr_index = i;\n",
    "            while (curr_index > 0 && arr[curr_index] < arr[curr_index - 1]) {\n",
    "                int temp = arr[curr_index];\n",
    "                arr[curr_index] = arr[curr_index-1];\n",
    "                arr[curr_index-1] = temp;\n",
    "                curr_index--;\n",
    "            }\n",
    "        }\n",
    "\n",
    "    }\n",
    "}"
   ]
  },
  {
   "cell_type": "markdown",
   "metadata": {},
   "source": [
    "Leetcode 147. Insertion Sort List"
   ]
  },
  {
   "cell_type": "markdown",
   "metadata": {},
   "source": [
    "## <a id='heap_sort'>4. Heap Sort</a>\n",
    "Leetcode 347. Top K Frequent Elements"
   ]
  },
  {
   "cell_type": "code",
   "execution_count": null,
   "metadata": {},
   "outputs": [],
   "source": [
    "class Solution {\n",
    "    public int[] topKFrequent(int[] nums, int k) {\n",
    "        Map<Integer, Integer> map = new HashMap<Integer,Integer>();\n",
    "        for (int num : nums) {\n",
    "            if (!map.containsKey(num)) {\n",
    "                map.put(num, 1);\n",
    "            } else {\n",
    "                map.put(num, map.get(num) + 1);\n",
    "            }\n",
    "        }\n",
    "        // or map.put(num, map.getOrDefault(num, 0) + 1);\n",
    "        // heap\n",
    "        Queue<Integer> minHeap = new PriorityQueue<Integer>((a,b)->(map.get(a)-map.get(b)));\n",
    "        for (int num : map.keySet()) {\n",
    "            minHeap.add(num);\n",
    "        }\n",
    "        while (minHeap.size() > k) minHeap.remove();\n",
    "        //\n",
    "        int[] res = new int[k];\n",
    "        for (int i=0; i<k; i++) {\n",
    "            int n = minHeap.remove();\n",
    "            res[i]=n;\n",
    "        }\n",
    "        return res;\n",
    "    }\n",
    "}"
   ]
  },
  {
   "cell_type": "markdown",
   "metadata": {},
   "source": [
    "## <a id='heap_sort'>5. Merge Sort</a>\n",
    "\n",
    "Divide and Conquer:\n",
    "Merge sort divide the array in half, sort each of these halves, and then merge the two halves to create the final sorted result.<br>\n",
    "\n",
    "The merge part does all the heavy lifting."
   ]
  },
  {
   "cell_type": "code",
   "execution_count": null,
   "metadata": {},
   "outputs": [],
   "source": [
    "public static int[] mergeSort(int[] unsorted) {\n",
    "    // base case\n",
    "    if (unsorted.length == 0) return unsorted;\n",
    "    //\n",
    "    int mid = unsorted.length / 2;\n",
    "    int[] left = new int[mid];\n",
    "    int[] right = new int[unsorted.length-mid];\n",
    "    System.arraycopy(unsorted, 0, left, 0, left.length);\n",
    "    System.arraycopy(unsorted, mid, right, 0, right.length);\n",
    "    //\n",
    "    left = mergeSort(left);\n",
    "    right = mergeSort(right);\n",
    "    //\n",
    "    return merge(left, right);\n",
    "}"
   ]
  },
  {
   "cell_type": "markdown",
   "metadata": {},
   "source": [
    "Inputs a and b are sorted arrays."
   ]
  },
  {
   "cell_type": "code",
   "execution_count": null,
   "metadata": {},
   "outputs": [],
   "source": [
    "public static int[] merge(int[] a, int[] b) {\n",
    "    int[] merged = new int[a.length + b.length];\n",
    "    int indexA = 0, indexB = 0, indexM = 0;\n",
    "    while (indexA < a.length && indexB < b.length) {\n",
    "        if (a[indexA] < b[indexB]) {\n",
    "            merged[indexM] = a[indexA];\n",
    "            indexA++;\n",
    "        } else {\n",
    "            merged[indexM] = b[indexB];\n",
    "            indexB++;\n",
    "        }\n",
    "        indexM++;\n",
    "    }\n",
    "    if (indexA < a.length) {\n",
    "       for (int i=indexA; i<a.length; i++) {\n",
    "           merged[indexM] = a[indexA];\n",
    "           indexM++;\n",
    "       } \n",
    "    } else {\n",
    "        for (index i=indexB; i<b.length; i++) {\n",
    "            merged[indexM];\n",
    "            indexM++;\n",
    "        }\n",
    "    }\n",
    "    return merged;\n",
    "}"
   ]
  },
  {
   "cell_type": "markdown",
   "metadata": {},
   "source": [
    "## <a id='quick_sort'>5. Quick Sort</a>\n",
    "Divide and Conqure:\n",
    "1. Random pick an element and partition the array. Such that all numbers that are less then the pivot come before all elements greater than the pivot.-> swaps <br>\n",
    "Bring the pivot to its appropiate position such that left of the pivot is smaller and right is greater. <br>\n",
    "2. Quick sort the left half \n",
    "3. Quick sort the right half\n",
    "\n",
    "After each round, piviot element is at the correct location.\n",
    "\n",
    "Worest case is caused by the fact that partition may not be the median.\n",
    "\n",
    "https://www.geeksforgeeks.org/quick-sort/"
   ]
  },
  {
   "cell_type": "code",
   "execution_count": null,
   "metadata": {},
   "outputs": [],
   "source": [
    "public static void quickSort(int[] unsorted) {\n",
    "    quickSort(unsorted, 0, unsorted.length - 1);\n",
    "}\n",
    "\n",
    "public static void quickSort(int[] unsorted, int left, int right) {\n",
    "    // base case\n",
    "    if (left >= right) return;\n",
    "    // recursive case\n",
    "    int partition_index = partition(unsorted, left, right);\n",
    "    //\n",
    "    quickSort(unsorted, left, prtition_index - 1);\n",
    "    quickSort(unsorted, partition_index + 1, right);\n",
    "}\n",
    "\n",
    "private int partition(int[] arr, int left, int right) {\n",
    "    swap(arr, right, left + (right-left)/2);\n",
    "    // choose the pivot value\n",
    "    int pivot = arr[right];\n",
    "    \n",
    "    // i is index of smaller element, you can use left to replace with minor modification in code\n",
    "    int i = left;\n",
    "    for (int j = left; j < right; j++) {\n",
    "        if (arr[j] < pivot) {\n",
    "            // increment the index of smaller element\n",
    "            swap(arr, i, j);\n",
    "            i++;\n",
    "        }\n",
    "    }\n",
    "    swap(arr, i, right); \n",
    "    return i;\n",
    "}"
   ]
  },
  {
   "cell_type": "markdown",
   "metadata": {},
   "source": [
    "In the above code, i tracks the smaller elements and indicate the correct position of pivot found so far.\n",
    "\n",
    "Another way to write the partition function:"
   ]
  },
  {
   "cell_type": "code",
   "execution_count": null,
   "metadata": {},
   "outputs": [],
   "source": [
    "public int partition(int[] arr, int left, int right) {\n",
    "    swap(arr, left, left + (end-start)/2);\n",
    "    int pivot = arr[left];\n",
    "    int i = left;\n",
    "    int j = i;\n",
    "    while (i <= right) {\n",
    "        if (arr[i] < pivot) {\n",
    "            swap(arr, i, j);\n",
    "            j++;\n",
    "        }\n",
    "        i++;\n",
    "    }\n",
    "    swap(arr, j-1, left);\n",
    "    return j-1;\n",
    "} "
   ]
  },
  {
   "cell_type": "markdown",
   "metadata": {},
   "source": [
    "Same as pick the right most element as the pivot"
   ]
  },
  {
   "cell_type": "code",
   "execution_count": null,
   "metadata": {},
   "outputs": [],
   "source": []
  },
  {
   "cell_type": "markdown",
   "metadata": {},
   "source": [
    "## <a id='quick_sort'>6. Quick Select</a>\n",
    "* Quickselect is a selection algorithm to find the k-th smallest element in an unordered list.\n",
    "* The algorithm is similar to QuickSort. The difference is, instead of recurring for both sides (after finding pivot), it recurs only for the part that contains the k-th smallest element. \n",
    "* The logic is simple:\n",
    "    * If index of the partitioned element is more than k, then we recur for the left part. \n",
    "    * If index is the same as k, we have found the k-th smallest element and we return. \n",
    "    * If index is less than k, then we recur for the right part.\n",
    "* This reduces the expected complexity from O(n log n) to **O(n)**, with a worst-case of O(n^2).\n",
    "\n",
    "Example: Find the kth largest"
   ]
  },
  {
   "cell_type": "code",
   "execution_count": null,
   "metadata": {},
   "outputs": [],
   "source": [
    "class Solution {\n",
    "    public int findKthLargest(int[] nums, int k) {\n",
    "        int n = nums.length;\n",
    "        quickSelect(nums, 0, n-1, n-k);\n",
    "        return nums[n-k];\n",
    "    }\n",
    "\n",
    "    // find kth smallest\n",
    "    private void quickSelect(int[] unsorted, int left, int right, int k) {\n",
    "        // sort a list withine left and right till kth less freq element take its place\n",
    "        // 1. base case\n",
    "        if (left == right) return;\n",
    "        // 2. find the pivot position in a sorted list\n",
    "        int pivot_index = partition(unsorted, left, right);\n",
    "        // 3. check\n",
    "        if (pivot_index < k) { // go right\n",
    "            quickSelect(unsorted, pivot_index + 1, right, k);\n",
    "        } else if (pivot_index == k) {\n",
    "            return;\n",
    "        } else { // go left\n",
    "            quickSelect(unsorted, left, pivot_index - 1, k);\n",
    "        }\n",
    "    }\n",
    "\n",
    "    private int partition(int[] unsorted, int left, int right) {\n",
    "        swap(unsorted, right, left+(right-left)/2);\n",
    "        int pivot_val = unsorted[right];\n",
    "        int store_index = left;\n",
    "        for (int i=left; i<=right; i++) {\n",
    "            if (unsorted[i] < pivot_val) {\n",
    "                swap(unsorted, store_index, i);\n",
    "                store_index++;\n",
    "            }\n",
    "        }\n",
    "        swap(unsorted, right, store_index); // move pivot to final position\n",
    "        return store_index;\n",
    "    }\n",
    "\n",
    "    private void swap(int[] arr, int i, int j) {\n",
    "        int temp = arr[i];\n",
    "        arr[i] = arr[j];\n",
    "        arr[j] = temp;\n",
    "    }\n",
    "}"
   ]
  }
 ],
 "metadata": {
  "kernelspec": {
   "display_name": "Python 3",
   "language": "python",
   "name": "python3"
  },
  "language_info": {
   "codemirror_mode": {
    "name": "ipython",
    "version": 3
   },
   "file_extension": ".py",
   "mimetype": "text/x-python",
   "name": "python",
   "nbconvert_exporter": "python",
   "pygments_lexer": "ipython3",
   "version": "3.7.6"
  }
 },
 "nbformat": 4,
 "nbformat_minor": 4
}
