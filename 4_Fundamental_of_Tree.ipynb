{
 "cells": [
  {
   "cell_type": "markdown",
   "metadata": {},
   "source": [
    "# Binary Tree\n",
    "\n",
    "https://leetcode.com/explore/learn/card/data-structure-tree/134/traverse-a-tree/\n",
    "\n",
    "A BT is a tree in which each node has up to 2 children. <br>\n",
    "BST is a BT in which each node fits a specific order: all left descendents <= n < all right descendents.\n",
    "\n",
    "Main problems in Tree:\n",
    "1. traversal (DFS) - recursively and iteratively\n",
    "2. search - BFS (level traversal), DFS\n",
    "3. difference in bottom-up and top-down"
   ]
  },
  {
   "cell_type": "code",
   "execution_count": null,
   "metadata": {},
   "outputs": [],
   "source": [
    "class TreeNode {\n",
    "    int val;\n",
    "    TreeNode left;\n",
    "    TreeNode right;\n",
    "    TreeNode() {}\n",
    "    TreeNode(int val) {this.val = val};\n",
    "    reeNode(int val, TreeNode left, TreeNode right) {\n",
    "        this.val = val;\n",
    "        this.left = left;\n",
    "        this.right = right;\n",
    "   }\n",
    "}"
   ]
  },
  {
   "cell_type": "markdown",
   "metadata": {},
   "source": [
    "## Depth First Traversal\n",
    "\n",
    "Namig w.r.t. the current node\n",
    "\n",
    "#### 1. In-order Traversal"
   ]
  },
  {
   "cell_type": "code",
   "execution_count": null,
   "metadata": {},
   "outputs": [],
   "source": [
    "public void inOrderTraversal(Node root) {\n",
    "    // base case\n",
    "    if (node == null) return;\n",
    "    \n",
    "    // recursion\n",
    "    inOrderTraversal(root.left);\n",
    "    visit(root);\n",
    "    inOrderTraversal(root.right);\n",
    "}"
   ]
  },
  {
   "cell_type": "markdown",
   "metadata": {},
   "source": [
    "#### 2. Pre-order Traversal"
   ]
  },
  {
   "cell_type": "code",
   "execution_count": null,
   "metadata": {},
   "outputs": [],
   "source": [
    "public void preOrderTraversal(Node root) {\n",
    "    if (root != null) {\n",
    "        visit(root);\n",
    "        preOrderTraversal(root.left);\n",
    "        preOrderTraversal(root.right);\n",
    "    }\n",
    "}"
   ]
  },
  {
   "cell_type": "markdown",
   "metadata": {},
   "source": [
    "#### 3. Post-order Traversal"
   ]
  },
  {
   "cell_type": "code",
   "execution_count": null,
   "metadata": {},
   "outputs": [],
   "source": [
    "public void preOrderTraversal(Node root) {\n",
    "    if (root != null) {\n",
    "        preOrderTraversal(root.left);\n",
    "        preOrderTraversal(root.right);\n",
    "        visit(root);\n",
    "    }\n",
    "}"
   ]
  },
  {
   "cell_type": "markdown",
   "metadata": {},
   "source": [
    "#### Implementation of DFS using stack (iteratively)\n",
    "We use a stack to store all nodes to be visited. "
   ]
  },
  {
   "cell_type": "code",
   "execution_count": null,
   "metadata": {},
   "outputs": [],
   "source": [
    "class Solution {    \n",
    "    public List<Integer> preorderTraversal(TreeNode root) {\n",
    "        List<Integer> answer = new ArrayList<>();\n",
    "        Stack<TreeNode> stack = new Stack<>();\n",
    "        stack.add(root);\n",
    "        \n",
    "        // Note that we add currNode's right child to the stack first. !!!\n",
    "        while (!stack.isEmpty()) {\n",
    "            TreeNode currNode = stack.peek();\n",
    "            stack.pop();\n",
    "            if (currNode != null) {\n",
    "                answer.add(currNode.val);\n",
    "                stack.add(currNode.right);\n",
    "                stack.add(currNode.left);\n",
    "            }\n",
    "        }\n",
    "        \n",
    "        return answer;\n",
    "    }\n",
    "}"
   ]
  },
  {
   "cell_type": "code",
   "execution_count": null,
   "metadata": {},
   "outputs": [],
   "source": [
    "class Solution {\n",
    "    public List<Integer> inorderTraversal(TreeNode root) {\n",
    "        List<Integer> res = new ArrayList<>();\n",
    "        Stack<TreeNode> stack = new Stack<>();\n",
    "\n",
    "        TreeNode curr = root;\n",
    "        \n",
    "        while (curr != null || !stack.isEmpty()){\n",
    "            // push the the nodes on the left side for future visiting\n",
    "            while (curr != null) {\n",
    "                stack.add(curr);\n",
    "                curr = curr.left;\n",
    "            }\n",
    "            // visit\n",
    "            curr = stack.pop();\n",
    "            res.add(curr.val);\n",
    "            // right side\n",
    "            curr = curr.right;     \n",
    "        }\n",
    "        return res;\n",
    "    }\n",
    "}"
   ]
  },
  {
   "cell_type": "code",
   "execution_count": null,
   "metadata": {},
   "outputs": [],
   "source": []
  },
  {
   "cell_type": "markdown",
   "metadata": {},
   "source": [
    "## Level Order Traversal - BFS\n",
    "Typically, we use a queue to help us to do BFS.\n",
    "\n",
    "#### Iterative using a queue\n"
   ]
  },
  {
   "cell_type": "code",
   "execution_count": null,
   "metadata": {},
   "outputs": [],
   "source": [
    "class Solution {\n",
    "    public List<List<Integer>> levelOrder(TreeNode root) {\n",
    "        List<List<Integer>> levels = new ArrayList<>();\n",
    "        if (root == null) return levels;\n",
    "\n",
    "        Queue<TreeNode> queue = new LinkedList<>();\n",
    "        queue.add(root);\n",
    "        int level = 0;\n",
    "\n",
    "        while (!queue.isEmpty()) {\n",
    "            List<Integer> currLevel = new ArrayList<>();\n",
    "            int level_length = queue.size();\n",
    "            // visit each node in current level\n",
    "            for (int i=0; i<level_length; i++) {\n",
    "                TreeNode node = queue.remove();\n",
    "                currLevel.add(node.val);\n",
    "\n",
    "                if (node.left != null) queue.add(node.left);\n",
    "                if (node.right != null) queue.add(node.right);\n",
    "            }\n",
    "            levels.add(currLevel);\n",
    "            // go to next level\n",
    "            level++;\n",
    "        }\n",
    "        return levels;\n",
    "    }\n",
    "}"
   ]
  },
  {
   "cell_type": "markdown",
   "metadata": {},
   "source": [
    "#### Recusion"
   ]
  },
  {
   "cell_type": "code",
   "execution_count": null,
   "metadata": {},
   "outputs": [],
   "source": [
    "class Solution {\n",
    "    List<List<Integer>> levels = new ArrayList<>();\n",
    "\n",
    "    public List<List<Integer>> levelOrder(TreeNode root) {\n",
    "        if (root == null) return levels;\n",
    "        bfs(root, 0);\n",
    "        return levels;\n",
    "    }\n",
    "\n",
    "    public void bfs(TreeNode node, int level) {\n",
    "        // start the current level\n",
    "        if (levels.size() == level) {\n",
    "            levels.add(new ArrayList<Integer>());\n",
    "        }\n",
    "        // fulfill the current level\n",
    "        levels.get(level).add(node.val);\n",
    "        // process child\n",
    "        if (node.left != null) bfs(node.left, level+1);\n",
    "        if (node.right != null) bfs(node.right, level+1);\n",
    "    }\n",
    "}"
   ]
  },
  {
   "cell_type": "markdown",
   "metadata": {},
   "source": [
    "## Difference in Top-Down and Botton-Up solutions\n",
    "https://leetcode.com/explore/learn/card/data-structure-tree/17/solve-problems-recursively/534/"
   ]
  },
  {
   "cell_type": "markdown",
   "metadata": {},
   "source": [
    "\"Top-down\" means that in each recursive call, we will visit the node first to come up with some values, and pass these values to its children when calling the function recursively. So the \"top-down\" solution can be considered as a kind of preorder traversal. To be specific, the recursive function top_down(root, params) works like this:"
   ]
  },
  {
   "cell_type": "code",
   "execution_count": null,
   "metadata": {},
   "outputs": [],
   "source": [
    "1. return specific value for null node\n",
    "2. update the answer if needed                      // answer <-- params\n",
    "3. left_ans = top_down(root.left, left_params)      // left_params <-- root.val, params\n",
    "4. right_ans = top_down(root.right, right_params)   // right_params <-- root.val, params\n",
    "5. return the answer if needed                      // answer <-- left_ans, right_ans\n"
   ]
  },
  {
   "cell_type": "code",
   "execution_count": null,
   "metadata": {},
   "outputs": [],
   "source": [
    "private int answer; // don't forget to initialize answer before call maximum_depth\n",
    "private void maximum_depth(TreeNode root, int depth) {\n",
    "    if (root == null) {\n",
    "        return;\n",
    "    }\n",
    "    if (root.left == null && root.right == null) {\n",
    "        answer = Math.max(answer, depth);\n",
    "    }\n",
    "    maximum_depth(root.left, depth + 1);\n",
    "    maximum_depth(root.right, depth + 1);\n",
    "}"
   ]
  },
  {
   "cell_type": "markdown",
   "metadata": {},
   "source": [
    "\"Bottom-up\" is another recursive solution. In each recursive call, we will **firstly call the function recursively for all the children nodes** and then come up with the answer according to the returned values and the value of the current node itself. This process can be regarded as a kind of postorder traversal. Typically, a \"bottom-up\" recursive function bottom_up(root) will be something like this:"
   ]
  },
  {
   "cell_type": "code",
   "execution_count": null,
   "metadata": {},
   "outputs": [],
   "source": [
    "1. return specific value for null node\n",
    "2. left_ans = bottom_up(root.left)      // call function recursively for left child\n",
    "3. right_ans = bottom_up(root.right)    // call function recursively for right child\n",
    "4. return answers                       // answer <-- left_ans, right_ans, root.val"
   ]
  },
  {
   "cell_type": "code",
   "execution_count": null,
   "metadata": {},
   "outputs": [],
   "source": [
    "public int maximum_depth(TreeNode root) {\n",
    "    if (root == null) {\n",
    "        return 0;                                   // return 0 for null node\n",
    "    }\n",
    "    int left_depth = maximum_depth(root.left);\n",
    "    int right_depth = maximum_depth(root.right);\n",
    "    return Math.max(left_depth, right_depth) + 1;   // return depth of the subtree rooted at root\n",
    "}"
   ]
  }
 ],
 "metadata": {
  "kernelspec": {
   "display_name": "Python 3",
   "language": "python",
   "name": "python3"
  },
  "language_info": {
   "codemirror_mode": {
    "name": "ipython",
    "version": 3
   },
   "file_extension": ".py",
   "mimetype": "text/x-python",
   "name": "python",
   "nbconvert_exporter": "python",
   "pygments_lexer": "ipython3",
   "version": "3.7.6"
  }
 },
 "nbformat": 4,
 "nbformat_minor": 4
}
