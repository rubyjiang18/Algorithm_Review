{
 "cells": [
  {
   "cell_type": "markdown",
   "metadata": {},
   "source": [
    "# Recursion\n",
    "\n",
    "Typical questions **\"compute the nth...\", \"list the first n...\", and \"compute all...\"**\n",
    "\n",
    "\n",
    "1. Bottom-up Approach\n",
    "2. Top-Down Approach\n",
    "3. Half-and-Half Approach"
   ]
  },
  {
   "cell_type": "markdown",
   "metadata": {},
   "source": [
    "## Example case - Fibonacci Numbers"
   ]
  },
  {
   "cell_type": "markdown",
   "metadata": {},
   "source": [
    "Recursive implementation - O(2^n)\n",
    "\n",
    "A recursive function should have the following properties so that it does not result in an infinite loop:\n",
    "\n",
    "1. A simple base case (or cases) — a terminating scenario that does not use recursion to produce an answer.\n",
    "2. A set of rules, also known as recurrence relation that reduces all other cases towards the base case.\n",
    "Note that there could be multiple places where the function may call itself."
   ]
  },
  {
   "cell_type": "code",
   "execution_count": null,
   "metadata": {},
   "outputs": [],
   "source": [
    "class Solution {\n",
    "    public int fib(int n) {\n",
    "        if (n==0) return 0;\n",
    "        if (n==1) return 1;\n",
    "        return fib(n-1) + fib(n-2); \n",
    "    }\n",
    "}"
   ]
  },
  {
   "cell_type": "markdown",
   "metadata": {},
   "source": [
    "Top-Down Dynamic Programming (or Memoization) - O(n)"
   ]
  },
  {
   "cell_type": "code",
   "execution_count": null,
   "metadata": {},
   "outputs": [],
   "source": [
    "class Solution {\n",
    "    public int fib(int n) {\n",
    "        return fib(n, new int[n+1]);\n",
    "    }\n",
    "\n",
    "    private int fib(int i, int[] memo) {\n",
    "        if (i==0 || i==1) return i;\n",
    "\n",
    "        if (memo[i] == 0) {\n",
    "            memo[i] = fib(i-1, memo) + fib(i-2, memo);\n",
    "        }\n",
    "        return memo[i];\n",
    "    }\n",
    "}"
   ]
  },
  {
   "cell_type": "markdown",
   "metadata": {},
   "source": [
    "Bottom-Up Dynamic Programming"
   ]
  },
  {
   "cell_type": "code",
   "execution_count": null,
   "metadata": {},
   "outputs": [],
   "source": [
    "class Solution {\n",
    "    public int fib(int n) {\n",
    "        if (n==0 || n==1) return n;\n",
    "\n",
    "        int[] memo = new int[n+1];\n",
    "        memo[0] = 0;\n",
    "        memo[1] = 1;\n",
    "        for (int i=2; i<=n; i++) {\n",
    "            memo[i] = memo[i-1] + memo[i-2];\n",
    "        }\n",
    "\n",
    "        return memo[n];\n",
    "    }\n",
    "}"
   ]
  },
  {
   "cell_type": "code",
   "execution_count": null,
   "metadata": {},
   "outputs": [],
   "source": []
  },
  {
   "cell_type": "markdown",
   "metadata": {},
   "source": [
    "# BackTracking\n",
    "Backtracking is a general algorithm for **finding all (or some) solutions to some computational problems** (notably Constraint satisfaction problems or CSPs), which incrementally builds candidates to the solution and abandons a candidate (\"backtracks\") as soon as it determines that the candidate cannot lead to a valid solution. [1] \n",
    "\n",
    "https://leetcode.com/explore/learn/card/recursion-ii/472/backtracking/2654/\n",
    "\n",
    "Classical cases\n",
    "1. N Queen problem\n",
    "2. Check if a given word is present in the tree"
   ]
  },
  {
   "cell_type": "markdown",
   "metadata": {},
   "source": [
    "### Template"
   ]
  },
  {
   "cell_type": "code",
   "execution_count": 2,
   "metadata": {},
   "outputs": [],
   "source": [
    "def backtrack(candidate):\n",
    "    if find_solution(candidate):\n",
    "        output(candidate)\n",
    "        return\n",
    "    \n",
    "    # iterate all possible candidates.\n",
    "    for next_candidate in list_of_candidates:\n",
    "        if is_valid(next_candidate):\n",
    "            # try this partial candidate solution\n",
    "            place(next_candidate)\n",
    "            # given the candidate, explore further.\n",
    "            backtrack(next_candidate)https://leetcode.com/problems/combination-sum/submissions/612576817/\n",
    "            # backtrack\n",
    "            remove(next_candidate)"
   ]
  },
  {
   "cell_type": "markdown",
   "metadata": {},
   "source": [
    "Here are a few notes about the above pseudocode.\n",
    "\n",
    "- Overall, the enumeration of candidates is done in two levels: 1). at the first level, the function is implemented as recursion. At each occurrence of recursion, the function is one step further to the final solution.  2). as the second level, within the recursion, we have an iteration that allows us to explore all the candidates that are of the same progress to the final solution.\n",
    "\n",
    "- The backtracking should happen at the level of the iteration within the recursion. \n",
    "\n",
    "- Unlike brute-force search, in backtracking algorithms we are often able to determine if a partial solution candidate is worth exploring further (i.e. is_valid(next_candidate)), which allows us to prune the search zones. This is also known as the constraint, e.g. the attacking zone of queen in N-queen game. \n",
    "\n",
    "- There are two symmetric functions that allow us to mark the decision (place(candidate)) and revert the decision (remove(candidate)).  "
   ]
  },
  {
   "cell_type": "code",
   "execution_count": null,
   "metadata": {},
   "outputs": [],
   "source": [
    "# Leetcode 78 subsets\n",
    "\n",
    "class Solution {\n",
    "    List<List<Integer>> output = new ArrayList<>();\n",
    "\n",
    "    public List<List<Integer>> subsets(int[] nums) {\n",
    "        backtrack(nums, 0, new ArrayList<Integer>());\n",
    "        return output;\n",
    "    }\n",
    "\n",
    "    private void backtrack(int[] nums, int index, ArrayList<Integer> curr) {\n",
    "        // if find solution, add to output, and return\n",
    "        // *** a copy of curr not curr itself\n",
    "        output.add(new ArrayList<>(curr));\n",
    "        \n",
    "\n",
    "        // iterate all possible candidates (adjacent ones)\n",
    "        for (int i = index; i<nums.length; i++) {\n",
    "            // decision to include nums[i]\n",
    "            curr.add(nums[i]);\n",
    "            // given this candidate, explore futher\n",
    "            backtrack(nums, i+1, curr);\n",
    "            // backtrack: decisions to not include nums[i]\n",
    "            curr.remove(curr.size() - 1);\n",
    "        }\n",
    "    }\n",
    "}"
   ]
  },
  {
   "cell_type": "code",
   "execution_count": null,
   "metadata": {},
   "outputs": [],
   "source": [
    "797. All Paths From Source to Target\n"
   ]
  }
 ],
 "metadata": {
  "kernelspec": {
   "display_name": "Python 3",
   "language": "python",
   "name": "python3"
  },
  "language_info": {
   "codemirror_mode": {
    "name": "ipython",
    "version": 3
   },
   "file_extension": ".py",
   "mimetype": "text/x-python",
   "name": "python",
   "nbconvert_exporter": "python",
   "pygments_lexer": "ipython3",
   "version": "3.7.6"
  }
 },
 "nbformat": 4,
 "nbformat_minor": 4
}
