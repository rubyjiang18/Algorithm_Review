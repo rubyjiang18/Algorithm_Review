{
 "cells": [
  {
   "cell_type": "markdown",
   "metadata": {},
   "source": [
    "A Heap is not a Priority Queue, but a way to implement a Priority Queue.\n",
    "\n",
    "There are multiple ways to implement a Priority Queue, such as array and linked list. However, these implementations only guarantee O(1) time complexity for either insertion or deletion, while the other operation will have a time complexity of O(N). \n",
    "\n",
    "On the other hand, implementing the priority queue with Heap will allow both insertion and deletion to have a time \n",
    "O(logN). \n",
    "\n",
    "Check [Leetcode Heap Explore Card](https://leetcode.com/explore/learn/card/heap/643/heap/4018/)"
   ]
  },
  {
   "cell_type": "markdown",
   "metadata": {},
   "source": [
    "## 1. Defination:\n",
    "A Heap is a special type of binary tree. A heap is a binary tree that meets the following criteria:\n",
    "* Is a complete binary tree (a BT with all the levels are completely filled(i.e, have two children), except the possibly the deepest level);\n",
    "* The value of each node must be no greater than (or no less than) the value of its child nodes.\n",
    "\n",
    "A Heap has the following properties:\n",
    "\n",
    "* Insertion of an element into the Heap has a time complexity of O(logN);\n",
    "* Deletion of an element from the Heap has a time complexity of O(logN);\n",
    "* The maximum/minimum value in the Heap can be obtained with O(1) time complexity.\n",
    "\n"
   ]
  },
  {
   "cell_type": "markdown",
   "metadata": {},
   "source": [
    "## 2. Constructor\n",
    "#### Method 1"
   ]
  },
  {
   "cell_type": "markdown",
   "metadata": {},
   "source": [
    "Min Heap (smaller element on top): new PriorityQueue<>((a,b) -> (a-b));<br>\n",
    "max heap (larger element on top): new PriorityQueue<>((a,b) -> (b-a));"
   ]
  },
  {
   "cell_type": "markdown",
   "metadata": {},
   "source": [
    "#### Method 2"
   ]
  },
  {
   "cell_type": "code",
   "execution_count": null,
   "metadata": {},
   "outputs": [],
   "source": [
    "// In Java, a Heap is represented by a Priority Queue\n",
    "import java.util.Collections;\n",
    "import java.util.PriorityQueue;\n",
    "import java.util.Arrays;\n",
    "\n",
    "// Construct an empty Min Heap\n",
    "PriorityQueue<Integer> minHeap = new PriorityQueue<>(); // default minheap\n",
    "\n",
    "// Construct an empty Max Heap\n",
    "PriorityQueue<Integer> maxHeap = new PriorityQueue<>(Collections.reverseOrder());\n",
    "\n",
    "// Construct a Heap with initial elements. \n",
    "// This process is named \"Heapify\".\n",
    "// The Heap is a Min Heap\n",
    "PriorityQueue<Integer> heapWithValues= new PriorityQueue<>(Arrays.asList(3, 1, 2));"
   ]
  },
  {
   "cell_type": "code",
   "execution_count": null,
   "metadata": {},
   "outputs": [],
   "source": [
    "#### method in java:\n",
    "heap.add(1)\n",
    "heap.peek()\n",
    "heap.poll() // delete\n",
    "heap.size()"
   ]
  },
  {
   "cell_type": "markdown",
   "metadata": {},
   "source": [
    "## 3. Time complexity\n",
    "\n",
    "<img src=\"images/heap.png\" alt=\"Local Image\" width=\"700\" height=\"200\">"
   ]
  },
  {
   "cell_type": "code",
   "execution_count": null,
   "metadata": {},
   "outputs": [],
   "source": []
  }
 ],
 "metadata": {
  "kernelspec": {
   "display_name": "Python 3",
   "language": "python",
   "name": "python3"
  },
  "language_info": {
   "codemirror_mode": {
    "name": "ipython",
    "version": 3
   },
   "file_extension": ".py",
   "mimetype": "text/x-python",
   "name": "python",
   "nbconvert_exporter": "python",
   "pygments_lexer": "ipython3",
   "version": "3.7.6"
  }
 },
 "nbformat": 4,
 "nbformat_minor": 4
}
