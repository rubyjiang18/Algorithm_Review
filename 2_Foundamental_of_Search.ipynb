{
 "cells": [
  {
   "cell_type": "markdown",
   "metadata": {},
   "source": [
    "# Binary Search\n",
    "We look fot an element x in a **SORTED**  array by first compareing x to the midpoint. <br>\n",
    "If x < midpoint, search left half. <br>\n",
    "If x > midpoint, search right half. <br>\n",
    "we repeat untile we either find x or the subarray has size 0.\n",
    "\n",
    "\n",
    "### Binary Search is generally composed of 3 main sections:\n",
    "- Pre-processing - Sort if collection is unsorted.\n",
    "- Binary Search - Using a loop or recursion to divide search space in half after each comparison.\n",
    "- Post-processing - Determine viable candidates in the remaining space.\n",
    "\n"
   ]
  },
  {
   "cell_type": "code",
   "execution_count": null,
   "metadata": {},
   "outputs": [],
   "source": [
    "public int binarySearch(int[] a , int x) {\n",
    "    int low = 0, high = a.length - 1;\n",
    "    int mid;\n",
    "    \n",
    "    while (low <= high) {\n",
    "        mid = low + (high - low) / 2;\n",
    "        if (x > a[mid]) {\n",
    "            low = mid + 1;\n",
    "        } else if (x > a[mid]) {\n",
    "            high = mid - 1;\n",
    "        } else {\n",
    "            return mid;\n",
    "        }\n",
    "    } \n",
    "    \n",
    "    return -1;\n",
    "}"
   ]
  },
  {
   "cell_type": "markdown",
   "metadata": {},
   "source": [
    "Recursive"
   ]
  },
  {
   "cell_type": "code",
   "execution_count": null,
   "metadata": {},
   "outputs": [],
   "source": [
    "class Solution {\n",
    "    public int search(int[] nums, int target) {\n",
    "      return binarySearchRecursive(nums, target, 0, nums.length-1);\n",
    "    }\n",
    "\n",
    "    private int binarySearchRecursive(int[] a, int x, int low, int high) {\n",
    "      if (low > high) return -1;\n",
    "      int mid = low + (high - low) / 2;\n",
    "      if (x > a[mid]) {\n",
    "        return binarySearchRecursive(a, x, mid+1, high);\n",
    "      } else if (x < a[mid]) {\n",
    "        return binarySearchRecursive(a, x, low, mid-1);\n",
    "      } else {\n",
    "        return mid;\n",
    "      }\n",
    "    }\n",
    "}"
   ]
  },
  {
   "cell_type": "code",
   "execution_count": null,
   "metadata": {},
   "outputs": [],
   "source": []
  }
 ],
 "metadata": {
  "kernelspec": {
   "display_name": "Python 3",
   "language": "python",
   "name": "python3"
  },
  "language_info": {
   "codemirror_mode": {
    "name": "ipython",
    "version": 3
   },
   "file_extension": ".py",
   "mimetype": "text/x-python",
   "name": "python",
   "nbconvert_exporter": "python",
   "pygments_lexer": "ipython3",
   "version": "3.7.6"
  }
 },
 "nbformat": 4,
 "nbformat_minor": 4
}
