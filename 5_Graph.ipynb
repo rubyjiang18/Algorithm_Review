{
 "cells": [
  {
   "cell_type": "markdown",
   "metadata": {},
   "source": [
    "# Graph\n",
    "[Leetcode Graph Explore Card](https://leetcode.com/explore/learn/card/graph/)\n",
    "\n",
    "- Solution 1: DFS (if you need to visit every node in the graph), BFS (find the shortest path or just any path)\n",
    "- Solution 2: Union Find\n",
    "\n",
    "We need to understand that we are dealing with a **graph** and this means a node could have **any number of neighbors**. This is why neighbors is a **list** (adjList). "
   ]
  },
  {
   "cell_type": "markdown",
   "metadata": {},
   "source": [
    "## 1. DFS - recursion"
   ]
  },
  {
   "cell_type": "markdown",
   "metadata": {},
   "source": [
    "Use visited to avoid infinite loop"
   ]
  },
  {
   "cell_type": "code",
   "execution_count": null,
   "metadata": {},
   "outputs": [],
   "source": [
    "void search(Node root):\n",
    "    if (root == null) return \n",
    "    visit(root);\n",
    "    root.visited = true;\n",
    "    for each Node n in root.adjacent:\n",
    "        if n.visited = false:\n",
    "            search(n)\n",
    "            "
   ]
  },
  {
   "cell_type": "markdown",
   "metadata": {},
   "source": [
    "## 2. BFS - queue\n",
    "In a typical BFS search, the time complexity is O(V+E), where V is the number of vertices and E is the number of edges.\n"
   ]
  },
  {
   "cell_type": "code",
   "execution_count": null,
   "metadata": {},
   "outputs": [],
   "source": [
    "void search(Node root):\n",
    "    Quque q = new Queue()\n",
    "    root.visited = true\n",
    "    q.add(root)\n",
    "    \n",
    "    while (!q.isEmpty()):\n",
    "        Node currNode = q.pop()\n",
    "        visit(currNode)\n",
    "        for each Node n in currNode.adjacent:\n",
    "            if n.visited == false:\n",
    "                n.visited = true\n",
    "                q.add(n)"
   ]
  },
  {
   "cell_type": "markdown",
   "metadata": {},
   "source": [
    "#### 经典题目 Number of Island， 有template\n",
    "DFS(adjacent, visited, curr cell ij)"
   ]
  },
  {
   "cell_type": "markdown",
   "metadata": {},
   "source": [
    "###  Topological sort with BFS\n",
    "A topological sort or topological ordering of a directed graph is a linear ordering of its vertices such that for every directed edge u -> v from vertex u to vertex v, u comes before v in the ordering.\n",
    "\n",
    "[Explore Card](https://leetcode.com/explore/learn/card/graph/623/kahns-algorithm-for-topological-sorting/3886/) <br>\n",
    "[Algorithm Implementation](https://leetcode.com/discuss/general-discussion/1078072/introduction-to-topological-sort)"
   ]
  },
  {
   "cell_type": "markdown",
   "metadata": {},
   "source": [
    "Algorithm\n",
    "1. build indegree of each node\n",
    "2. build neighbors of each node\n",
    "3. enqueue all nodes with 0 indegree\n",
    "4. bfs, decrement in degree, enqueue if indegree == 1"
   ]
  },
  {
   "cell_type": "code",
   "execution_count": null,
   "metadata": {},
   "outputs": [],
   "source": [
    "indegree = an array indicating indegrees for each node\n",
    "neighbours = a HashMap recording neighbours of each node\n",
    "queue = []\n",
    "for i in indegree:\n",
    "    if indegree[i] == 0:\n",
    "        queue.append(i)\n",
    "\n",
    "while !queue.empty():\n",
    "    node = queue.dequeue()\n",
    "    for neighbour in neighbours[node]:\n",
    "        indegree[neighbour] -= 1\n",
    "        if indegree[neighbour] == 0:\n",
    "            queue.append(neighbour)"
   ]
  }
 ],
 "metadata": {
  "kernelspec": {
   "display_name": "Python 3",
   "language": "python",
   "name": "python3"
  },
  "language_info": {
   "codemirror_mode": {
    "name": "ipython",
    "version": 3
   },
   "file_extension": ".py",
   "mimetype": "text/x-python",
   "name": "python",
   "nbconvert_exporter": "python",
   "pygments_lexer": "ipython3",
   "version": "3.7.6"
  }
 },
 "nbformat": 4,
 "nbformat_minor": 4
}
